{
 "cells": [
  {
   "cell_type": "markdown",
   "id": "46c5adec-c983-4e8a-9136-720862a0218c",
   "metadata": {},
   "source": [
    "# 1. Taylor's Series\n",
    "f(x+h) = f(x) + hf'(x)\n",
    "\n",
    "0 = f(x) + hf'(x)\n",
    "\n",
    "h = x(n+1) - x(n)\n",
    "\n",
    "x(n+1) = x(n) - something\n",
    "\n",
    "x(n+1) = x(n) - f(x)/f'(x)"
   ]
  },
  {
   "cell_type": "markdown",
   "id": "f97b862b-67ad-439b-9294-afd6d72ef1ae",
   "metadata": {},
   "source": [
    "# The Klinkenberg Efect\n",
    "1. k(g) = k(l) +c(1/pm)\n",
    "\n",
    "kg = measured gas permeability, pm = mean pressure, kL = equivalent liquid permeability.i.e.absolute permeability, c = slope of the line\n",
    "\n",
    "2. c = b.k(l) = 6.9kL^(0.36)\n",
    "3. 6.9kL^(0.64) + pmkL - pmkg = 0"
   ]
  },
  {
   "cell_type": "markdown",
   "id": "c0cf6f19-cd1f-4436-bea6-efbb736e6287",
   "metadata": {},
   "source": [
    "# Procedure/Algorithm\n",
    "![a](Screenshot%202024-10-02%20072840.jpg)\n",
    ")"
   ]
  },
  {
   "cell_type": "markdown",
   "id": "fb419b13-c1da-4709-83c7-c63329863f3e",
   "metadata": {},
   "source": [
    "![b](Screenshot%202024-10-02%20072222.jpg)"
   ]
  },
  {
   "cell_type": "markdown",
   "id": "f25270e4-aa48-4ad2-8079-01cbce2ce600",
   "metadata": {},
   "source": [
    "# Example :-\n",
    "![b](Screenshot%202024-10-02%20073400.jpg)"
   ]
  },
  {
   "cell_type": "code",
   "execution_count": 46,
   "id": "7316d174-a4fa-4b62-8537-c2596ac3deac",
   "metadata": {},
   "outputs": [
    {
     "name": "stdin",
     "output_type": "stream",
     "text": [
      "Enter your first guess of absolute permeability kL : 46\n",
      "Enter Mean Pressure (Pm) : 2.152\n",
      "Enter k(air) = kg : 46.6\n"
     ]
    },
    {
     "name": "stdout",
     "output_type": "stream",
     "text": [
      "The Final value of Permeability K : 22.849002252077355 \n"
     ]
    }
   ],
   "source": [
    "k = input(\"Enter your first guess of absolute permeability kL :\")\n",
    "\n",
    "k = float(k)\n",
    "\n",
    "# f(k=kl) = 6.9kl^(0.64) + pmkl - pmkg = 0\n",
    "# f'(k) = 4.416kl^(-0.36) + pm\n",
    "\n",
    "pm = input(\"Enter Mean Pressure (Pm) :\")\n",
    "pm = float(pm)\n",
    "\n",
    "kg = input(\"Enter k(air) = kg :\")\n",
    "kg = float(kg)\n",
    "\n",
    "while abs(6.9*(k**0.64) + pm*k - pm*kg) > 0.01:\n",
    "    k = k - (6.9*(k**0.64) + pm*k - pm*kg)/(4.416*(k**-0.36) + pm)\n",
    "\n",
    "print(f'The Final value of Permeability K : {k} ')"
   ]
  },
  {
   "cell_type": "code",
   "execution_count": null,
   "id": "8e7cb745-6770-4d9b-bbd2-372f7a74284f",
   "metadata": {},
   "outputs": [],
   "source": []
  }
 ],
 "metadata": {
  "kernelspec": {
   "display_name": "Python 3 (ipykernel)",
   "language": "python",
   "name": "python3"
  },
  "language_info": {
   "codemirror_mode": {
    "name": "ipython",
    "version": 3
   },
   "file_extension": ".py",
   "mimetype": "text/x-python",
   "name": "python",
   "nbconvert_exporter": "python",
   "pygments_lexer": "ipython3",
   "version": "3.12.4"
  }
 },
 "nbformat": 4,
 "nbformat_minor": 5
}
