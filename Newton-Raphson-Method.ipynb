{
 "cells": [
  {
   "cell_type": "markdown",
   "id": "d51ba706-18f5-4311-9f59-4b7f9e7a7562",
   "metadata": {},
   "source": [
    "## Finding the square root of a number using python"
   ]
  },
  {
   "cell_type": "code",
   "execution_count": 28,
   "id": "b8bd6005-5ad5-4c83-a874-0a5cabad4a63",
   "metadata": {},
   "outputs": [
    {
     "name": "stdin",
     "output_type": "stream",
     "text": [
      "Type the Number:  100\n"
     ]
    },
    {
     "name": "stdout",
     "output_type": "stream",
     "text": [
      "Square Root of 100 is 10.0\n"
     ]
    }
   ],
   "source": [
    "# Conventional method\n",
    "x = input(\"Type the Number: \")\n",
    "x = int(x)       # or x = float(x)\n",
    "# y = pow(x,0.5)\n",
    "y = x**0.5\n",
    "print(f'Square Root of {x} is {y}')"
   ]
  },
  {
   "cell_type": "code",
   "execution_count": 6,
   "id": "03f0a9d1-14c0-4405-bd53-ca87b5b76f10",
   "metadata": {},
   "outputs": [],
   "source": [
    "# ALGORITHM (Newton Raphson's Numerical Method)\n",
    "# x2 = N \n",
    "# f(x) = x2 - N = 0 \n",
    "# f'(x) = 2x\n",
    "# x(n+1) = x(n) - f(x)/f'(x)"
   ]
  },
  {
   "cell_type": "code",
   "execution_count": 26,
   "id": "9d8a78d8-ae75-4f58-8e94-277469213196",
   "metadata": {},
   "outputs": [
    {
     "name": "stdin",
     "output_type": "stream",
     "text": [
      "Type the number:  100\n"
     ]
    },
    {
     "name": "stdout",
     "output_type": "stream",
     "text": [
      "\n",
      "Since We are using NEWTON'S RAPHSON NUMERICAL METHOD,\n",
      "Suggest an intial value to be iterated\n"
     ]
    },
    {
     "name": "stdin",
     "output_type": "stream",
     "text": [
      "\n",
      "Initial value:  10\n"
     ]
    },
    {
     "name": "stdout",
     "output_type": "stream",
     "text": [
      "Approximated square root of 100.0 is 10.0\n"
     ]
    }
   ],
   "source": [
    "n = input(\"Type the number: \")\n",
    "n = float(n)\n",
    "print(\"\\nSince We are using NEWTON'S RAPHSON NUMERICAL METHOD,\\nSuggest an intial value to be iterated\")\n",
    "# let's assume initial roots\n",
    "x = input(\"\\nInitial value: \")\n",
    "x = float(x)\n",
    "while (abs(x**2 - n)>0.00001) :\n",
    "    x = x - ((x**2 - n)/(2*x))\n",
    "\n",
    "print(f'Approximated square root of {n} is {x}')"
   ]
  },
  {
   "cell_type": "code",
   "execution_count": null,
   "id": "688e9fae-2786-4b82-b825-c5131489d382",
   "metadata": {},
   "outputs": [],
   "source": []
  }
 ],
 "metadata": {
  "kernelspec": {
   "display_name": "Python 3 (ipykernel)",
   "language": "python",
   "name": "python3"
  },
  "language_info": {
   "codemirror_mode": {
    "name": "ipython",
    "version": 3
   },
   "file_extension": ".py",
   "mimetype": "text/x-python",
   "name": "python",
   "nbconvert_exporter": "python",
   "pygments_lexer": "ipython3",
   "version": "3.12.4"
  }
 },
 "nbformat": 4,
 "nbformat_minor": 5
}
